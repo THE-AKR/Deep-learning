{
 "cells": [
  {
   "cell_type": "code",
   "execution_count": 2,
   "id": "cc147bb7",
   "metadata": {},
   "outputs": [],
   "source": [
    "import cv2"
   ]
  },
  {
   "cell_type": "code",
   "execution_count": 3,
   "id": "a247cf24",
   "metadata": {},
   "outputs": [],
   "source": [
    "# Load the Cascade Classifier\n",
    "face_cascade = cv2.CascadeClassifier(\"haarcascade_frontalface_default.xml\")\n",
    " \n",
    "#start  web cam\n",
    "cap = cv2.VideoCapture(0)\n",
    " \n",
    "while True:\n",
    "     \n",
    "    #read image from webcam\n",
    "    respose, color_img = cap.read()\n",
    "     \n",
    "    # Convert to grayscale\n",
    "    gray_img = cv2.cvtColor(color_img, cv2.COLOR_BGR2GRAY)\n",
    "     \n",
    "    # Detect the faces\n",
    "    faces = face_cascade.detectMultiScale(gray_img, 1.4, 7)\n",
    "     \n",
    "    #display rectrangle\n",
    "    for (x, y, w, h) in faces:\n",
    "        cv2.rectangle(color_img, (x, y), (x+w, y+h), (0, 0, 255), 3)\n",
    "     \n",
    "    # display image\n",
    "    cv2.imshow('img', color_img)\n",
    "     \n",
    "    if cv2.waitKey(1) & 0xFF == ord('q'):\n",
    "        break\n",
    "\n",
    "cap.release()\n",
    "cv2.destroyAllWindows()"
   ]
  },
  {
   "cell_type": "code",
   "execution_count": null,
   "id": "994635ba",
   "metadata": {},
   "outputs": [],
   "source": []
  }
 ],
 "metadata": {
  "kernelspec": {
   "display_name": "Python 3 (ipykernel)",
   "language": "python",
   "name": "python3"
  },
  "language_info": {
   "codemirror_mode": {
    "name": "ipython",
    "version": 3
   },
   "file_extension": ".py",
   "mimetype": "text/x-python",
   "name": "python",
   "nbconvert_exporter": "python",
   "pygments_lexer": "ipython3",
   "version": "3.12.2"
  },
  "widgets": {
   "application/vnd.jupyter.widget-state+json": {
    "state": {},
    "version_major": 2,
    "version_minor": 0
   }
  }
 },
 "nbformat": 4,
 "nbformat_minor": 5
}
