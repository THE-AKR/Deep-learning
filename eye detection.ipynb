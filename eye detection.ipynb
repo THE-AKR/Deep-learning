{
 "cells": [
  {
   "cell_type": "code",
   "execution_count": 1,
   "id": "ab638ea3",
   "metadata": {},
   "outputs": [],
   "source": [
    "# import libraries\n",
    "import cv2\n",
    " \n",
    "# Load trained cascade classifier\n",
    "eye_detect = cv2.CascadeClassifier('haarcascade_eye.xml')\n",
    " \n",
    "# start camera / read video\n",
    "cam = cv2.VideoCapture(0)\n",
    " \n",
    "while True:\n",
    "     \n",
    "    # read frame/image from camera\n",
    "    resp, frame = cam.read()\n",
    "     \n",
    "    # no frame then brak loop\n",
    "    if resp==0:\n",
    "        break\n",
    "         \n",
    "    # Convert color image into grayscale\n",
    "    gray_img = cv2.cvtColor(frame, cv2.COLOR_BGR2GRAY)\n",
    "     \n",
    "    # Detect faces ROI\n",
    "    #Syntax: Classifier.detectMultiScale(input image, Scale Factor , Min Neighbors)\n",
    "    eyes = eye_detect.detectMultiScale(gray_img, 1.3, 7)\n",
    "     \n",
    "    # Draw rectangle around the faces\n",
    "    for (x,y,w,h) in eyes:\n",
    "        cv2.rectangle(frame, (x,y), (x+w, y+h), (0,0,255), 3)\n",
    "     \n",
    "    # Show image\n",
    "    cv2.imshow('Live Eye Detection', frame)  \n",
    "     \n",
    "    #wait to close window\n",
    "    if cv2.waitKey(1) & 0xFF == ord('q'):\n",
    "        break\n",
    "# release camera/webcam   \n",
    "cam.release()\n",
    " \n",
    "#close all windows\n",
    "cv2.destroyAllWindows()"
   ]
  },
  {
   "cell_type": "code",
   "execution_count": null,
   "id": "5defe5cb",
   "metadata": {},
   "outputs": [],
   "source": []
  }
 ],
 "metadata": {
  "kernelspec": {
   "display_name": "Python 3 (ipykernel)",
   "language": "python",
   "name": "python3"
  },
  "language_info": {
   "codemirror_mode": {
    "name": "ipython",
    "version": 3
   },
   "file_extension": ".py",
   "mimetype": "text/x-python",
   "name": "python",
   "nbconvert_exporter": "python",
   "pygments_lexer": "ipython3",
   "version": "3.12.2"
  },
  "widgets": {
   "application/vnd.jupyter.widget-state+json": {
    "state": {},
    "version_major": 2,
    "version_minor": 0
   }
  }
 },
 "nbformat": 4,
 "nbformat_minor": 5
}
