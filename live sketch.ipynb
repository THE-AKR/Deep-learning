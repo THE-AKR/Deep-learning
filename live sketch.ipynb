{
 "cells": [
  {
   "cell_type": "code",
   "execution_count": 2,
   "id": "53de91a8-b8a0-4d68-b596-371d8fd3176b",
   "metadata": {},
   "outputs": [],
   "source": [
    "import cv2"
   ]
  },
  {
   "cell_type": "code",
   "execution_count": 3,
   "id": "0db90e25-dfa6-4a4b-af5c-dd1c6b2bba14",
   "metadata": {},
   "outputs": [],
   "source": [
    "def sketch(image):\n",
    "     gray_img = cv2.cvtColor(image, cv2.COLOR_BGR2GRAY)\n",
    "     blur =cv2.GaussianBlur(gray_img, (5,5), 0)\n",
    "     edges= cv2.Canny(blur,60,90)\n",
    "     return edges\n",
    "\n",
    "cap= cv2.VideoCapture(0)\n",
    "\n",
    "while True:\n",
    "    respose, frame = cap.read()\n",
    "    if respose == False:\n",
    "        break\n",
    "    cv2.imshow(\"Sketch\",sketch(frame))\n",
    "    if cv2.waitKey(1) & 0xFF == ord('q'):\n",
    "        break\n",
    "\n",
    "cap.release()\n",
    "cv2.destroyAllWindows()"
   ]
  },
  {
   "cell_type": "code",
   "execution_count": null,
   "id": "16ffcdcf-fca3-4411-a531-edf09abab5a4",
   "metadata": {},
   "outputs": [],
   "source": []
  },
  {
   "cell_type": "code",
   "execution_count": null,
   "id": "f5207d82-7d5c-4800-a82f-7e225f3095f5",
   "metadata": {},
   "outputs": [],
   "source": []
  },
  {
   "cell_type": "code",
   "execution_count": null,
   "id": "37983056-3b8c-4243-8660-e3a00dc3c58e",
   "metadata": {},
   "outputs": [],
   "source": []
  }
 ],
 "metadata": {
  "kernelspec": {
   "display_name": "Python 3 (ipykernel)",
   "language": "python",
   "name": "python3"
  },
  "language_info": {
   "codemirror_mode": {
    "name": "ipython",
    "version": 3
   },
   "file_extension": ".py",
   "mimetype": "text/x-python",
   "name": "python",
   "nbconvert_exporter": "python",
   "pygments_lexer": "ipython3",
   "version": "3.12.2"
  },
  "widgets": {
   "application/vnd.jupyter.widget-state+json": {
    "state": {},
    "version_major": 2,
    "version_minor": 0
   }
  }
 },
 "nbformat": 4,
 "nbformat_minor": 5
}
