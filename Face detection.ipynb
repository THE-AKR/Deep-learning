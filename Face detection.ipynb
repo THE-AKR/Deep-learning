{
 "cells": [
  {
   "cell_type": "code",
   "execution_count": 1,
   "id": "a7c35ca9",
   "metadata": {},
   "outputs": [],
   "source": [
    "import cv2"
   ]
  },
  {
   "cell_type": "code",
   "execution_count": 2,
   "id": "c9f684a3",
   "metadata": {},
   "outputs": [],
   "source": [
    "# Load trained cascade classifier\n",
    "face_cascade = cv2.CascadeClassifier('haarcascade_frontalface_default.xml')"
   ]
  },
  {
   "cell_type": "code",
   "execution_count": 81,
   "id": "75df0b17",
   "metadata": {},
   "outputs": [],
   "source": [
    "# Read the given image\n",
    "color_image = cv2.imread('hp.jpg')"
   ]
  },
  {
   "cell_type": "code",
   "execution_count": 82,
   "id": "fa1b9448",
   "metadata": {},
   "outputs": [],
   "source": [
    "# Convert color image into grayscale\n",
    "gray_image = cv2.cvtColor(color_image, cv2.COLOR_BGR2GRAY)"
   ]
  },
  {
   "cell_type": "code",
   "execution_count": 83,
   "id": "6a76d0a4",
   "metadata": {},
   "outputs": [],
   "source": [
    "#Classifier.detectMultiScale(input image, Scale Factor , Min Neighbors)\n",
    "faces = face_cascade.detectMultiScale(gray_image, 1.1, 4) "
   ]
  },
  {
   "cell_type": "code",
   "execution_count": 84,
   "id": "f93b8bad",
   "metadata": {},
   "outputs": [],
   "source": [
    "#display rectrangle\n",
    "for (x, y, w, h) in faces:\n",
    "    cv2.rectangle(color_image, (x, y), (x+w, y+h), (0, 0, 255), 3)"
   ]
  },
  {
   "cell_type": "code",
   "execution_count": 85,
   "id": "26c56b52",
   "metadata": {},
   "outputs": [],
   "source": [
    "# display image\n",
    "cv2.imshow('img', color_image)\n",
    "cv2.waitKey()\n",
    "cv2.destroyAllWindows()"
   ]
  },
  {
   "cell_type": "code",
   "execution_count": null,
   "id": "87cf84db",
   "metadata": {},
   "outputs": [],
   "source": []
  },
  {
   "cell_type": "code",
   "execution_count": null,
   "id": "37792322",
   "metadata": {},
   "outputs": [],
   "source": []
  },
  {
   "cell_type": "code",
   "execution_count": null,
   "id": "23c4fa9b",
   "metadata": {},
   "outputs": [],
   "source": []
  }
 ],
 "metadata": {
  "kernelspec": {
   "display_name": "Python 3 (ipykernel)",
   "language": "python",
   "name": "python3"
  },
  "language_info": {
   "codemirror_mode": {
    "name": "ipython",
    "version": 3
   },
   "file_extension": ".py",
   "mimetype": "text/x-python",
   "name": "python",
   "nbconvert_exporter": "python",
   "pygments_lexer": "ipython3",
   "version": "3.12.2"
  },
  "widgets": {
   "application/vnd.jupyter.widget-state+json": {
    "state": {},
    "version_major": 2,
    "version_minor": 0
   }
  }
 },
 "nbformat": 4,
 "nbformat_minor": 5
}
