{
 "cells": [
  {
   "cell_type": "code",
   "execution_count": 1,
   "id": "ea7b727f-fe2e-4fb5-8eb3-17fd69d30613",
   "metadata": {},
   "outputs": [],
   "source": [
    "import cv2, time"
   ]
  },
  {
   "cell_type": "code",
   "execution_count": 5,
   "id": "29ae4d49-07f1-4ae9-b91b-76a8c212e34f",
   "metadata": {},
   "outputs": [],
   "source": [
    "video= cv2.VideoCapture(0)\n",
    "\n",
    "first_frame=None\n",
    "\n",
    "while True:\n",
    "    check,frame=video.read()\n",
    "    gray=cv2.cvtColor(frame,cv2.COLOR_BGR2GRAY)\n",
    "    gray = cv2.GaussianBlur(gray,(21,21),0)\n",
    "\n",
    "    if first_frame is None:\n",
    "        first_frame=gray\n",
    "        continue\n",
    "    delta_frame= cv2.absdiff(first_frame,gray)\n",
    "    cv2.imshow(\"done\",delta_frame)\n",
    "    key=cv2.waitKey(2)\n",
    "    if key==ord(\"q\"):\n",
    "        break\n",
    "\n",
    "video.release()\n",
    "cv2.destroyAllWindows()"
   ]
  },
  {
   "cell_type": "code",
   "execution_count": null,
   "id": "00e2ca65-1053-452a-b7cf-a04fbf700992",
   "metadata": {},
   "outputs": [],
   "source": []
  }
 ],
 "metadata": {
  "kernelspec": {
   "display_name": "Python 3 (ipykernel)",
   "language": "python",
   "name": "python3"
  },
  "language_info": {
   "codemirror_mode": {
    "name": "ipython",
    "version": 3
   },
   "file_extension": ".py",
   "mimetype": "text/x-python",
   "name": "python",
   "nbconvert_exporter": "python",
   "pygments_lexer": "ipython3",
   "version": "3.12.2"
  },
  "widgets": {
   "application/vnd.jupyter.widget-state+json": {
    "state": {},
    "version_major": 2,
    "version_minor": 0
   }
  }
 },
 "nbformat": 4,
 "nbformat_minor": 5
}
