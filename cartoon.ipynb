{
 "cells": [
  {
   "cell_type": "code",
   "execution_count": 2,
   "id": "d392b97a-7704-4653-bc3c-dfc4bbf8b7dd",
   "metadata": {},
   "outputs": [],
   "source": [
    "import cv2\n",
    "import numpy as np"
   ]
  },
  {
   "cell_type": "code",
   "execution_count": 3,
   "id": "de85a17f-3157-450e-bb68-4ca740d5b2f6",
   "metadata": {},
   "outputs": [],
   "source": [
    "img=cv2.imread(\"WhatsApp-Image-2024-02-19-at-13.17.28.jpg\")"
   ]
  },
  {
   "cell_type": "code",
   "execution_count": 4,
   "id": "dd0d9c79-b5f8-4c7d-ab2b-23f69a1a2725",
   "metadata": {},
   "outputs": [
    {
     "data": {
      "text/plain": [
       "array([[[185, 180, 179],\n",
       "        [184, 179, 178],\n",
       "        [183, 175, 175],\n",
       "        ...,\n",
       "        [172, 166, 171],\n",
       "        [172, 166, 171],\n",
       "        [172, 166, 171]],\n",
       "\n",
       "       [[185, 180, 179],\n",
       "        [185, 180, 179],\n",
       "        [183, 175, 175],\n",
       "        ...,\n",
       "        [172, 166, 171],\n",
       "        [172, 166, 171],\n",
       "        [172, 166, 171]],\n",
       "\n",
       "       [[186, 181, 180],\n",
       "        [186, 181, 180],\n",
       "        [184, 176, 176],\n",
       "        ...,\n",
       "        [172, 166, 171],\n",
       "        [172, 166, 171],\n",
       "        [172, 166, 171]],\n",
       "\n",
       "       ...,\n",
       "\n",
       "       [[ 92, 162, 162],\n",
       "        [ 94, 164, 164],\n",
       "        [ 98, 165, 166],\n",
       "        ...,\n",
       "        [139, 132, 137],\n",
       "        [138, 132, 137],\n",
       "        [138, 132, 137]],\n",
       "\n",
       "       [[ 93, 163, 162],\n",
       "        [ 94, 164, 163],\n",
       "        [ 99, 167, 166],\n",
       "        ...,\n",
       "        [139, 132, 137],\n",
       "        [138, 132, 137],\n",
       "        [138, 132, 137]],\n",
       "\n",
       "       [[ 93, 163, 162],\n",
       "        [ 95, 165, 164],\n",
       "        [ 99, 167, 166],\n",
       "        ...,\n",
       "        [140, 133, 138],\n",
       "        [138, 132, 137],\n",
       "        [137, 131, 136]]], dtype=uint8)"
      ]
     },
     "execution_count": 4,
     "metadata": {},
     "output_type": "execute_result"
    }
   ],
   "source": [
    "img"
   ]
  },
  {
   "cell_type": "code",
   "execution_count": 5,
   "id": "312d32ab-b4c5-4b14-9f65-27be86660fce",
   "metadata": {},
   "outputs": [],
   "source": [
    "gray=cv2.cvtColor(img,cv2.COLOR_BGR2GRAY) #converting into grayscale for more feature detection"
   ]
  },
  {
   "cell_type": "code",
   "execution_count": 6,
   "id": "7dab8bd3-07d5-4b1f-ad77-36879850ea5b",
   "metadata": {},
   "outputs": [],
   "source": [
    "gray=cv2.medianBlur(gray,3) #blurring or sharpening the image , 3 is intensity"
   ]
  },
  {
   "cell_type": "code",
   "execution_count": 7,
   "id": "8edb70d4-76c1-4509-b2f6-a5f0801eb7ec",
   "metadata": {},
   "outputs": [],
   "source": [
    "edges=cv2.adaptiveThreshold(gray,255,cv2.ADAPTIVE_THRESH_MEAN_C,cv2.THRESH_BINARY,13,6)\n",
    "#threshold - like if color intensity is 255 make it as a edge"
   ]
  },
  {
   "cell_type": "code",
   "execution_count": 8,
   "id": "8e064129-ff32-4581-ae2e-64070c31da34",
   "metadata": {},
   "outputs": [],
   "source": [
    "color=cv2.bilateralFilter(img,9,250,250) #smoothening the image"
   ]
  },
  {
   "cell_type": "code",
   "execution_count": 9,
   "id": "45dbccc4-bff7-4d77-9f9d-b276749162b0",
   "metadata": {},
   "outputs": [],
   "source": [
    "cartoon=cv2.bitwise_and(color,color,mask=edges) #cartoonish the image bitwise- for image manipulation"
   ]
  },
  {
   "cell_type": "code",
   "execution_count": 10,
   "id": "482567ea-c8bc-41a0-93cd-626aa855c751",
   "metadata": {},
   "outputs": [],
   "source": [
    "cv2.imshow(\"show\",cartoon)\n",
    "cv2.waitKey(0)\n",
    "cv2.destroyAllWindows()"
   ]
  },
  {
   "cell_type": "code",
   "execution_count": null,
   "id": "f1be88eb-055d-4574-b378-62ef93fee734",
   "metadata": {},
   "outputs": [],
   "source": []
  }
 ],
 "metadata": {
  "kernelspec": {
   "display_name": "Python 3 (ipykernel)",
   "language": "python",
   "name": "python3"
  },
  "language_info": {
   "codemirror_mode": {
    "name": "ipython",
    "version": 3
   },
   "file_extension": ".py",
   "mimetype": "text/x-python",
   "name": "python",
   "nbconvert_exporter": "python",
   "pygments_lexer": "ipython3",
   "version": "3.12.2"
  },
  "widgets": {
   "application/vnd.jupyter.widget-state+json": {
    "state": {},
    "version_major": 2,
    "version_minor": 0
   }
  }
 },
 "nbformat": 4,
 "nbformat_minor": 5
}
